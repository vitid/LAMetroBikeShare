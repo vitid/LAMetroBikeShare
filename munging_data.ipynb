{
 "cells": [
  {
   "cell_type": "markdown",
   "metadata": {},
   "source": [
    "Split start and end information into a separate row( easier to work with Tableau for some visualizations)"
   ]
  },
  {
   "cell_type": "code",
   "execution_count": 1,
   "metadata": {
    "collapsed": true
   },
   "outputs": [],
   "source": [
    "import pandas as pd\n",
    "import numpy as np\n",
    "import matplotlib.pyplot as plt\n",
    "import seaborn as sns"
   ]
  },
  {
   "cell_type": "code",
   "execution_count": 2,
   "metadata": {
    "collapsed": true
   },
   "outputs": [],
   "source": [
    "trip_data = pd.read_csv(\"data/processed.csv\",dtype=\"str\")"
   ]
  },
  {
   "cell_type": "code",
   "execution_count": 3,
   "metadata": {
    "collapsed": false
   },
   "outputs": [
    {
     "data": {
      "text/plain": [
       "(55379, 17)"
      ]
     },
     "execution_count": 3,
     "metadata": {},
     "output_type": "execute_result"
    }
   ],
   "source": [
    "trip_data.shape"
   ]
  },
  {
   "cell_type": "code",
   "execution_count": 4,
   "metadata": {
    "collapsed": false
   },
   "outputs": [],
   "source": [
    "splitted_data = pd.DataFrame(columns=['trip_id','direction','time','station_id','lat','lon','passholder_type'],dtype=\"str\")"
   ]
  },
  {
   "cell_type": "code",
   "execution_count": 5,
   "metadata": {
    "collapsed": false
   },
   "outputs": [],
   "source": [
    "append_data = trip_data.loc[0:,[\"trip_id\",\"start_time\",\"start_station_id\",\"start_lat\",\"start_lon\",\"passholder_type\"]]\n",
    "append_data.columns = ['trip_id','time','station_id','lat','lon','passholder_type']\n",
    "append_data['direction'] = \"start\""
   ]
  },
  {
   "cell_type": "code",
   "execution_count": 6,
   "metadata": {
    "collapsed": false
   },
   "outputs": [],
   "source": [
    "splitted_data = splitted_data.append(append_data,ignore_index=True)"
   ]
  },
  {
   "cell_type": "code",
   "execution_count": 7,
   "metadata": {
    "collapsed": false
   },
   "outputs": [],
   "source": [
    "append_data = trip_data.loc[0:,[\"trip_id\",\"end_time\",\"end_station_id\",\"end_lat\",\"end_lon\",\"passholder_type\"]]\n",
    "append_data.columns = ['trip_id','time','station_id','lat','lon','passholder_type']\n",
    "append_data['direction'] = \"end\"\n",
    "\n",
    "splitted_data = splitted_data.append(append_data,ignore_index=True)"
   ]
  },
  {
   "cell_type": "code",
   "execution_count": 8,
   "metadata": {
    "collapsed": false
   },
   "outputs": [
    {
     "data": {
      "text/plain": [
       "(110758, 7)"
      ]
     },
     "execution_count": 8,
     "metadata": {},
     "output_type": "execute_result"
    }
   ],
   "source": [
    "#check data for correctness\n",
    "splitted_data.shape"
   ]
  },
  {
   "cell_type": "code",
   "execution_count": 9,
   "metadata": {
    "collapsed": false
   },
   "outputs": [
    {
     "data": {
      "text/html": [
       "<div>\n",
       "<table border=\"1\" class=\"dataframe\">\n",
       "  <thead>\n",
       "    <tr style=\"text-align: right;\">\n",
       "      <th></th>\n",
       "      <th>trip_id</th>\n",
       "      <th>duration</th>\n",
       "      <th>start_time</th>\n",
       "      <th>end_time</th>\n",
       "      <th>start_station_id</th>\n",
       "      <th>start_lat</th>\n",
       "      <th>start_lon</th>\n",
       "      <th>end_station_id</th>\n",
       "      <th>end_lat</th>\n",
       "      <th>end_lon</th>\n",
       "      <th>bike_id</th>\n",
       "      <th>plan_duration</th>\n",
       "      <th>trip_route_category</th>\n",
       "      <th>passholder_type</th>\n",
       "      <th>revenue_gain</th>\n",
       "      <th>usual_distance</th>\n",
       "      <th>usual_duration</th>\n",
       "    </tr>\n",
       "  </thead>\n",
       "  <tbody>\n",
       "    <tr>\n",
       "      <th>0</th>\n",
       "      <td>1912818</td>\n",
       "      <td>180</td>\n",
       "      <td>7/7/2016 4:17</td>\n",
       "      <td>7/7/2016 4:20</td>\n",
       "      <td>3014</td>\n",
       "      <td>34.0566101</td>\n",
       "      <td>-118.23721</td>\n",
       "      <td>3014</td>\n",
       "      <td>34.0566101</td>\n",
       "      <td>-118.23721</td>\n",
       "      <td>6281</td>\n",
       "      <td>30</td>\n",
       "      <td>Round Trip</td>\n",
       "      <td>Monthly Pass</td>\n",
       "      <td>0.0</td>\n",
       "      <td>0</td>\n",
       "      <td>0</td>\n",
       "    </tr>\n",
       "    <tr>\n",
       "      <th>1</th>\n",
       "      <td>1919661</td>\n",
       "      <td>1980</td>\n",
       "      <td>7/7/2016 6:00</td>\n",
       "      <td>7/7/2016 6:33</td>\n",
       "      <td>3014</td>\n",
       "      <td>34.0566101</td>\n",
       "      <td>-118.23721</td>\n",
       "      <td>3014</td>\n",
       "      <td>34.0566101</td>\n",
       "      <td>-118.23721</td>\n",
       "      <td>6281</td>\n",
       "      <td>30</td>\n",
       "      <td>Round Trip</td>\n",
       "      <td>Monthly Pass</td>\n",
       "      <td>1.75</td>\n",
       "      <td>0</td>\n",
       "      <td>0</td>\n",
       "    </tr>\n",
       "  </tbody>\n",
       "</table>\n",
       "</div>"
      ],
      "text/plain": [
       "   trip_id duration     start_time       end_time start_station_id  \\\n",
       "0  1912818      180  7/7/2016 4:17  7/7/2016 4:20             3014   \n",
       "1  1919661     1980  7/7/2016 6:00  7/7/2016 6:33             3014   \n",
       "\n",
       "    start_lat   start_lon end_station_id     end_lat     end_lon bike_id  \\\n",
       "0  34.0566101  -118.23721           3014  34.0566101  -118.23721    6281   \n",
       "1  34.0566101  -118.23721           3014  34.0566101  -118.23721    6281   \n",
       "\n",
       "  plan_duration trip_route_category passholder_type revenue_gain  \\\n",
       "0            30          Round Trip    Monthly Pass          0.0   \n",
       "1            30          Round Trip    Monthly Pass         1.75   \n",
       "\n",
       "  usual_distance usual_duration  \n",
       "0              0              0  \n",
       "1              0              0  "
      ]
     },
     "execution_count": 9,
     "metadata": {},
     "output_type": "execute_result"
    }
   ],
   "source": [
    "trip_data.head(2)"
   ]
  },
  {
   "cell_type": "code",
   "execution_count": 10,
   "metadata": {
    "collapsed": false
   },
   "outputs": [
    {
     "data": {
      "text/html": [
       "<div>\n",
       "<table border=\"1\" class=\"dataframe\">\n",
       "  <thead>\n",
       "    <tr style=\"text-align: right;\">\n",
       "      <th></th>\n",
       "      <th>direction</th>\n",
       "      <th>lat</th>\n",
       "      <th>lon</th>\n",
       "      <th>passholder_type</th>\n",
       "      <th>station_id</th>\n",
       "      <th>time</th>\n",
       "      <th>trip_id</th>\n",
       "    </tr>\n",
       "  </thead>\n",
       "  <tbody>\n",
       "    <tr>\n",
       "      <th>0</th>\n",
       "      <td>start</td>\n",
       "      <td>34.0566101</td>\n",
       "      <td>-118.23721</td>\n",
       "      <td>Monthly Pass</td>\n",
       "      <td>3014</td>\n",
       "      <td>7/7/2016 4:17</td>\n",
       "      <td>1912818</td>\n",
       "    </tr>\n",
       "    <tr>\n",
       "      <th>1</th>\n",
       "      <td>start</td>\n",
       "      <td>34.0566101</td>\n",
       "      <td>-118.23721</td>\n",
       "      <td>Monthly Pass</td>\n",
       "      <td>3014</td>\n",
       "      <td>7/7/2016 6:00</td>\n",
       "      <td>1919661</td>\n",
       "    </tr>\n",
       "    <tr>\n",
       "      <th>55379</th>\n",
       "      <td>end</td>\n",
       "      <td>34.0566101</td>\n",
       "      <td>-118.23721</td>\n",
       "      <td>Monthly Pass</td>\n",
       "      <td>3014</td>\n",
       "      <td>7/7/2016 4:20</td>\n",
       "      <td>1912818</td>\n",
       "    </tr>\n",
       "    <tr>\n",
       "      <th>55380</th>\n",
       "      <td>end</td>\n",
       "      <td>34.0566101</td>\n",
       "      <td>-118.23721</td>\n",
       "      <td>Monthly Pass</td>\n",
       "      <td>3014</td>\n",
       "      <td>7/7/2016 6:33</td>\n",
       "      <td>1919661</td>\n",
       "    </tr>\n",
       "  </tbody>\n",
       "</table>\n",
       "</div>"
      ],
      "text/plain": [
       "      direction         lat         lon passholder_type station_id  \\\n",
       "0         start  34.0566101  -118.23721    Monthly Pass       3014   \n",
       "1         start  34.0566101  -118.23721    Monthly Pass       3014   \n",
       "55379       end  34.0566101  -118.23721    Monthly Pass       3014   \n",
       "55380       end  34.0566101  -118.23721    Monthly Pass       3014   \n",
       "\n",
       "                time  trip_id  \n",
       "0      7/7/2016 4:17  1912818  \n",
       "1      7/7/2016 6:00  1919661  \n",
       "55379  7/7/2016 4:20  1912818  \n",
       "55380  7/7/2016 6:33  1919661  "
      ]
     },
     "execution_count": 10,
     "metadata": {},
     "output_type": "execute_result"
    }
   ],
   "source": [
    "splitted_data.loc[[0,1,55379,55380]]"
   ]
  },
  {
   "cell_type": "code",
   "execution_count": 11,
   "metadata": {
    "collapsed": false
   },
   "outputs": [
    {
     "data": {
      "text/html": [
       "<div>\n",
       "<table border=\"1\" class=\"dataframe\">\n",
       "  <thead>\n",
       "    <tr style=\"text-align: right;\">\n",
       "      <th></th>\n",
       "      <th>trip_id</th>\n",
       "      <th>duration</th>\n",
       "      <th>start_time</th>\n",
       "      <th>end_time</th>\n",
       "      <th>start_station_id</th>\n",
       "      <th>start_lat</th>\n",
       "      <th>start_lon</th>\n",
       "      <th>end_station_id</th>\n",
       "      <th>end_lat</th>\n",
       "      <th>end_lon</th>\n",
       "      <th>bike_id</th>\n",
       "      <th>plan_duration</th>\n",
       "      <th>trip_route_category</th>\n",
       "      <th>passholder_type</th>\n",
       "      <th>revenue_gain</th>\n",
       "      <th>usual_distance</th>\n",
       "      <th>usual_duration</th>\n",
       "    </tr>\n",
       "  </thead>\n",
       "  <tbody>\n",
       "    <tr>\n",
       "      <th>55378</th>\n",
       "      <td>8369650</td>\n",
       "      <td>480</td>\n",
       "      <td>9/30/2016 23:54</td>\n",
       "      <td>10/1/2016 0:02</td>\n",
       "      <td>3035</td>\n",
       "      <td>34.0484009</td>\n",
       "      <td>-118.26095</td>\n",
       "      <td>3031</td>\n",
       "      <td>34.0447006</td>\n",
       "      <td>-118.25244</td>\n",
       "      <td>6683</td>\n",
       "      <td>0</td>\n",
       "      <td>One Way</td>\n",
       "      <td>Walk-up</td>\n",
       "      <td>3.5</td>\n",
       "      <td>1009</td>\n",
       "      <td>290</td>\n",
       "    </tr>\n",
       "  </tbody>\n",
       "</table>\n",
       "</div>"
      ],
      "text/plain": [
       "       trip_id duration       start_time        end_time start_station_id  \\\n",
       "55378  8369650      480  9/30/2016 23:54  10/1/2016 0:02             3035   \n",
       "\n",
       "        start_lat   start_lon end_station_id     end_lat     end_lon bike_id  \\\n",
       "55378  34.0484009  -118.26095           3031  34.0447006  -118.25244    6683   \n",
       "\n",
       "      plan_duration trip_route_category passholder_type revenue_gain  \\\n",
       "55378             0             One Way         Walk-up          3.5   \n",
       "\n",
       "      usual_distance usual_duration  \n",
       "55378           1009            290  "
      ]
     },
     "execution_count": 11,
     "metadata": {},
     "output_type": "execute_result"
    }
   ],
   "source": [
    "trip_data.tail(1)"
   ]
  },
  {
   "cell_type": "code",
   "execution_count": 12,
   "metadata": {
    "collapsed": false
   },
   "outputs": [
    {
     "data": {
      "text/html": [
       "<div>\n",
       "<table border=\"1\" class=\"dataframe\">\n",
       "  <thead>\n",
       "    <tr style=\"text-align: right;\">\n",
       "      <th></th>\n",
       "      <th>direction</th>\n",
       "      <th>lat</th>\n",
       "      <th>lon</th>\n",
       "      <th>passholder_type</th>\n",
       "      <th>station_id</th>\n",
       "      <th>time</th>\n",
       "      <th>trip_id</th>\n",
       "    </tr>\n",
       "  </thead>\n",
       "  <tbody>\n",
       "    <tr>\n",
       "      <th>55378</th>\n",
       "      <td>start</td>\n",
       "      <td>34.0484009</td>\n",
       "      <td>-118.26095</td>\n",
       "      <td>Walk-up</td>\n",
       "      <td>3035</td>\n",
       "      <td>9/30/2016 23:54</td>\n",
       "      <td>8369650</td>\n",
       "    </tr>\n",
       "    <tr>\n",
       "      <th>110757</th>\n",
       "      <td>end</td>\n",
       "      <td>34.0447006</td>\n",
       "      <td>-118.25244</td>\n",
       "      <td>Walk-up</td>\n",
       "      <td>3031</td>\n",
       "      <td>10/1/2016 0:02</td>\n",
       "      <td>8369650</td>\n",
       "    </tr>\n",
       "  </tbody>\n",
       "</table>\n",
       "</div>"
      ],
      "text/plain": [
       "       direction         lat         lon passholder_type station_id  \\\n",
       "55378      start  34.0484009  -118.26095         Walk-up       3035   \n",
       "110757       end  34.0447006  -118.25244         Walk-up       3031   \n",
       "\n",
       "                   time  trip_id  \n",
       "55378   9/30/2016 23:54  8369650  \n",
       "110757   10/1/2016 0:02  8369650  "
      ]
     },
     "execution_count": 12,
     "metadata": {},
     "output_type": "execute_result"
    }
   ],
   "source": [
    "splitted_data.loc[[55378,110757]]"
   ]
  },
  {
   "cell_type": "code",
   "execution_count": 13,
   "metadata": {
    "collapsed": false
   },
   "outputs": [],
   "source": [
    "splitted_data.to_csv(\"data/processed_split_start_end.csv\",index=False)"
   ]
  },
  {
   "cell_type": "markdown",
   "metadata": {},
   "source": [
    "Next, we prepare data to be used in Sankey Diagram"
   ]
  },
  {
   "cell_type": "code",
   "execution_count": 41,
   "metadata": {
    "collapsed": false
   },
   "outputs": [],
   "source": [
    "grouped = trip_data.groupby(['start_station_id','end_station_id'])\n",
    "sankey_data = pd.DataFrame(grouped.size().rename('counts')).reset_index()"
   ]
  },
  {
   "cell_type": "code",
   "execution_count": 42,
   "metadata": {
    "collapsed": false
   },
   "outputs": [],
   "source": [
    "#This is required to align the order of nodes appear in the Sankey Diagram\n",
    "pre_rows = sankey_data.groupby('start_station_id').agg({'counts':'sum'}).reset_index().sort_values(by='counts',ascending=False)"
   ]
  },
  {
   "cell_type": "code",
   "execution_count": 43,
   "metadata": {
    "collapsed": false
   },
   "outputs": [],
   "source": [
    "pre_rows['end_station_id'] = pre_rows['start_station_id']\n",
    "pre_rows['counts'] = 0"
   ]
  },
  {
   "cell_type": "code",
   "execution_count": 44,
   "metadata": {
    "collapsed": false
   },
   "outputs": [],
   "source": [
    "sankey_data = pre_rows.append(sankey_data)"
   ]
  },
  {
   "cell_type": "code",
   "execution_count": 45,
   "metadata": {
    "collapsed": false
   },
   "outputs": [],
   "source": [
    "#add station name\n",
    "station_names = pd.read_csv(\"data/metro_station_table.csv\",dtype=\"str\")"
   ]
  },
  {
   "cell_type": "code",
   "execution_count": 46,
   "metadata": {
    "collapsed": true
   },
   "outputs": [],
   "source": [
    "station_names = station_names.filter(['Station ID','Station Name'])"
   ]
  },
  {
   "cell_type": "code",
   "execution_count": 49,
   "metadata": {
    "collapsed": false
   },
   "outputs": [],
   "source": [
    "station_names = station_names.drop_duplicates()"
   ]
  },
  {
   "cell_type": "code",
   "execution_count": 50,
   "metadata": {
    "collapsed": false
   },
   "outputs": [],
   "source": [
    "sankey_data = pd.merge(sankey_data, station_names, left_on = 'start_station_id', right_on = 'Station ID',how = 'left').filter(['start_station_id','Station Name','end_station_id','counts'])"
   ]
  },
  {
   "cell_type": "code",
   "execution_count": 51,
   "metadata": {
    "collapsed": false
   },
   "outputs": [],
   "source": [
    "sankey_data = pd.merge(sankey_data, station_names, left_on = 'end_station_id', right_on = 'Station ID',how = 'left').filter(['start_station_id','Station Name_x','end_station_id','Station Name_y','counts'])"
   ]
  },
  {
   "cell_type": "code",
   "execution_count": 52,
   "metadata": {
    "collapsed": true
   },
   "outputs": [],
   "source": [
    "sankey_data.columns = ['start_station_id','start_station_name','end_station_id','end_station_name','counts']"
   ]
  },
  {
   "cell_type": "code",
   "execution_count": 53,
   "metadata": {
    "collapsed": false
   },
   "outputs": [
    {
     "data": {
      "text/html": [
       "<div>\n",
       "<table border=\"1\" class=\"dataframe\">\n",
       "  <thead>\n",
       "    <tr style=\"text-align: right;\">\n",
       "      <th></th>\n",
       "      <th>start_station_id</th>\n",
       "      <th>start_station_name</th>\n",
       "      <th>end_station_id</th>\n",
       "      <th>end_station_name</th>\n",
       "      <th>counts</th>\n",
       "    </tr>\n",
       "  </thead>\n",
       "  <tbody>\n",
       "    <tr>\n",
       "      <th>0</th>\n",
       "      <td>3030</td>\n",
       "      <td>Main &amp; 1st</td>\n",
       "      <td>3030</td>\n",
       "      <td>Main &amp; 1st</td>\n",
       "      <td>0</td>\n",
       "    </tr>\n",
       "    <tr>\n",
       "      <th>1</th>\n",
       "      <td>3069</td>\n",
       "      <td>Broadway &amp; 3rd</td>\n",
       "      <td>3069</td>\n",
       "      <td>Broadway &amp; 3rd</td>\n",
       "      <td>0</td>\n",
       "    </tr>\n",
       "    <tr>\n",
       "      <th>2</th>\n",
       "      <td>3014</td>\n",
       "      <td>Union Station West Portal</td>\n",
       "      <td>3014</td>\n",
       "      <td>Union Station West Portal</td>\n",
       "      <td>0</td>\n",
       "    </tr>\n",
       "    <tr>\n",
       "      <th>3</th>\n",
       "      <td>3005</td>\n",
       "      <td>Flower &amp; 7th</td>\n",
       "      <td>3005</td>\n",
       "      <td>Flower &amp; 7th</td>\n",
       "      <td>0</td>\n",
       "    </tr>\n",
       "    <tr>\n",
       "      <th>4</th>\n",
       "      <td>3031</td>\n",
       "      <td>7th &amp; Spring</td>\n",
       "      <td>3031</td>\n",
       "      <td>7th &amp; Spring</td>\n",
       "      <td>0</td>\n",
       "    </tr>\n",
       "  </tbody>\n",
       "</table>\n",
       "</div>"
      ],
      "text/plain": [
       "  start_station_id         start_station_name end_station_id  \\\n",
       "0             3030                 Main & 1st           3030   \n",
       "1             3069             Broadway & 3rd           3069   \n",
       "2             3014  Union Station West Portal           3014   \n",
       "3             3005               Flower & 7th           3005   \n",
       "4             3031               7th & Spring           3031   \n",
       "\n",
       "            end_station_name  counts  \n",
       "0                 Main & 1st       0  \n",
       "1             Broadway & 3rd       0  \n",
       "2  Union Station West Portal       0  \n",
       "3               Flower & 7th       0  \n",
       "4               7th & Spring       0  "
      ]
     },
     "execution_count": 53,
     "metadata": {},
     "output_type": "execute_result"
    }
   ],
   "source": [
    "sankey_data.head()"
   ]
  },
  {
   "cell_type": "code",
   "execution_count": 54,
   "metadata": {
    "collapsed": true
   },
   "outputs": [],
   "source": [
    "sankey_data.to_csv(\"web/data/sankey_data.csv\",index=False)"
   ]
  }
 ],
 "metadata": {
  "kernelspec": {
   "display_name": "Python 2",
   "language": "python",
   "name": "python2"
  },
  "language_info": {
   "codemirror_mode": {
    "name": "ipython",
    "version": 2
   },
   "file_extension": ".py",
   "mimetype": "text/x-python",
   "name": "python",
   "nbconvert_exporter": "python",
   "pygments_lexer": "ipython2",
   "version": "2.7.6"
  }
 },
 "nbformat": 4,
 "nbformat_minor": 0
}
