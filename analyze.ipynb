{
 "cells": [
  {
   "cell_type": "code",
   "execution_count": 1,
   "metadata": {
    "collapsed": true
   },
   "outputs": [],
   "source": [
    "%matplotlib inline\n",
    "\n",
    "import pandas as pd\n",
    "import numpy as np\n",
    "import matplotlib.pyplot as plt\n",
    "import seaborn as sns\n"
   ]
  },
  {
   "cell_type": "markdown",
   "metadata": {},
   "source": [
    "Load Metro Link Bike Share data, the data consisted of the operations from the 3rd quarter, 2016 (July - September). Note that the service launched on July 7, 2016."
   ]
  },
  {
   "cell_type": "code",
   "execution_count": 2,
   "metadata": {
    "collapsed": false
   },
   "outputs": [
    {
     "data": {
      "text/html": [
       "<div>\n",
       "<table border=\"1\" class=\"dataframe\">\n",
       "  <thead>\n",
       "    <tr style=\"text-align: right;\">\n",
       "      <th></th>\n",
       "      <th>trip_id</th>\n",
       "      <th>duration</th>\n",
       "      <th>start_time</th>\n",
       "      <th>end_time</th>\n",
       "      <th>start_station_id</th>\n",
       "      <th>start_lat</th>\n",
       "      <th>start_lon</th>\n",
       "      <th>end_station_id</th>\n",
       "      <th>end_lat</th>\n",
       "      <th>end_lon</th>\n",
       "      <th>bike_id</th>\n",
       "      <th>plan_duration</th>\n",
       "      <th>trip_route_category</th>\n",
       "      <th>passholder_type</th>\n",
       "    </tr>\n",
       "  </thead>\n",
       "  <tbody>\n",
       "    <tr>\n",
       "      <th>0</th>\n",
       "      <td>1912818</td>\n",
       "      <td>180</td>\n",
       "      <td>7/7/2016 4:17</td>\n",
       "      <td>7/7/2016 4:20</td>\n",
       "      <td>3014</td>\n",
       "      <td>34.056610</td>\n",
       "      <td>-118.23721</td>\n",
       "      <td>3014</td>\n",
       "      <td>34.056610</td>\n",
       "      <td>-118.23721</td>\n",
       "      <td>6281</td>\n",
       "      <td>30</td>\n",
       "      <td>Round Trip</td>\n",
       "      <td>Monthly Pass</td>\n",
       "    </tr>\n",
       "    <tr>\n",
       "      <th>1</th>\n",
       "      <td>1919661</td>\n",
       "      <td>1980</td>\n",
       "      <td>7/7/2016 6:00</td>\n",
       "      <td>7/7/2016 6:33</td>\n",
       "      <td>3014</td>\n",
       "      <td>34.056610</td>\n",
       "      <td>-118.23721</td>\n",
       "      <td>3014</td>\n",
       "      <td>34.056610</td>\n",
       "      <td>-118.23721</td>\n",
       "      <td>6281</td>\n",
       "      <td>30</td>\n",
       "      <td>Round Trip</td>\n",
       "      <td>Monthly Pass</td>\n",
       "    </tr>\n",
       "    <tr>\n",
       "      <th>2</th>\n",
       "      <td>1933383</td>\n",
       "      <td>300</td>\n",
       "      <td>7/7/2016 10:32</td>\n",
       "      <td>7/7/2016 10:37</td>\n",
       "      <td>3016</td>\n",
       "      <td>34.052898</td>\n",
       "      <td>-118.24156</td>\n",
       "      <td>3016</td>\n",
       "      <td>34.052898</td>\n",
       "      <td>-118.24156</td>\n",
       "      <td>5861</td>\n",
       "      <td>365</td>\n",
       "      <td>Round Trip</td>\n",
       "      <td>Flex Pass</td>\n",
       "    </tr>\n",
       "    <tr>\n",
       "      <th>3</th>\n",
       "      <td>1944197</td>\n",
       "      <td>10860</td>\n",
       "      <td>7/7/2016 10:37</td>\n",
       "      <td>7/7/2016 13:38</td>\n",
       "      <td>3016</td>\n",
       "      <td>34.052898</td>\n",
       "      <td>-118.24156</td>\n",
       "      <td>3016</td>\n",
       "      <td>34.052898</td>\n",
       "      <td>-118.24156</td>\n",
       "      <td>5861</td>\n",
       "      <td>365</td>\n",
       "      <td>Round Trip</td>\n",
       "      <td>Flex Pass</td>\n",
       "    </tr>\n",
       "    <tr>\n",
       "      <th>4</th>\n",
       "      <td>1940317</td>\n",
       "      <td>420</td>\n",
       "      <td>7/7/2016 12:51</td>\n",
       "      <td>7/7/2016 12:58</td>\n",
       "      <td>3032</td>\n",
       "      <td>34.049889</td>\n",
       "      <td>-118.25588</td>\n",
       "      <td>3032</td>\n",
       "      <td>34.049889</td>\n",
       "      <td>-118.25588</td>\n",
       "      <td>6674</td>\n",
       "      <td>0</td>\n",
       "      <td>Round Trip</td>\n",
       "      <td>Walk-up</td>\n",
       "    </tr>\n",
       "  </tbody>\n",
       "</table>\n",
       "</div>"
      ],
      "text/plain": [
       "   trip_id  duration      start_time        end_time  start_station_id  \\\n",
       "0  1912818       180   7/7/2016 4:17   7/7/2016 4:20              3014   \n",
       "1  1919661      1980   7/7/2016 6:00   7/7/2016 6:33              3014   \n",
       "2  1933383       300  7/7/2016 10:32  7/7/2016 10:37              3016   \n",
       "3  1944197     10860  7/7/2016 10:37  7/7/2016 13:38              3016   \n",
       "4  1940317       420  7/7/2016 12:51  7/7/2016 12:58              3032   \n",
       "\n",
       "   start_lat  start_lon  end_station_id    end_lat    end_lon  bike_id  \\\n",
       "0  34.056610 -118.23721            3014  34.056610 -118.23721     6281   \n",
       "1  34.056610 -118.23721            3014  34.056610 -118.23721     6281   \n",
       "2  34.052898 -118.24156            3016  34.052898 -118.24156     5861   \n",
       "3  34.052898 -118.24156            3016  34.052898 -118.24156     5861   \n",
       "4  34.049889 -118.25588            3032  34.049889 -118.25588     6674   \n",
       "\n",
       "   plan_duration trip_route_category passholder_type  \n",
       "0             30          Round Trip    Monthly Pass  \n",
       "1             30          Round Trip    Monthly Pass  \n",
       "2            365          Round Trip       Flex Pass  \n",
       "3            365          Round Trip       Flex Pass  \n",
       "4              0          Round Trip         Walk-up  "
      ]
     },
     "execution_count": 2,
     "metadata": {},
     "output_type": "execute_result"
    }
   ],
   "source": [
    "trip_data = pd.read_csv(\"data/MetroBikeShare_2016_Q3_trips.csv\")\n",
    "trip_data.head()"
   ]
  },
  {
   "cell_type": "code",
   "execution_count": 3,
   "metadata": {
    "collapsed": false
   },
   "outputs": [
    {
     "data": {
      "text/plain": [
       "(55439, 14)"
      ]
     },
     "execution_count": 3,
     "metadata": {},
     "output_type": "execute_result"
    }
   ],
   "source": [
    "trip_data.shape"
   ]
  },
  {
   "cell_type": "markdown",
   "metadata": {},
   "source": [
    "As expected, nearly 60% of all trips pertained to \"Monthly Pass\" option. This option is the perfect choice for the local residents who commute regularly."
   ]
  },
  {
   "cell_type": "code",
   "execution_count": 4,
   "metadata": {
    "collapsed": false
   },
   "outputs": [
    {
     "data": {
      "image/png": "[encoded data removed]",
      "text/plain": [
       "<matplotlib.figure.Figure at 0x7f079a7ed810>"
      ]
     },
     "metadata": {},
     "output_type": "display_data"
    }
   ],
   "source": [
    "trip_data[\"passholder_type\"].value_counts().plot.pie(subplots=True,figsize=(8,8),autopct='%.2f',fontsize=20);"
   ]
  },
  {
   "cell_type": "markdown",
   "metadata": {},
   "source": [
    "We interest in the overall trip's duration. It is heavily right skewed. At 90th percentile, the trip duration is 2040 seconds( 34 minutes)."
   ]
  },
  {
   "cell_type": "code",
   "execution_count": 5,
   "metadata": {
    "collapsed": false
   },
   "outputs": [
    {
     "data": {
      "image/png": "[encoded data removed]",
      "text/plain": [
       "<matplotlib.figure.Figure at 0x7f079a7ed5d0>"
      ]
     },
     "metadata": {},
     "output_type": "display_data"
    }
   ],
   "source": [
    "plt.hist(trip_data[\"duration\"]);"
   ]
  },
  {
   "cell_type": "code",
   "execution_count": 6,
   "metadata": {
    "collapsed": false
   },
   "outputs": [
    {
     "data": {
      "text/plain": [
       "count    55439.000000\n",
       "mean      1436.717473\n",
       "std       4956.911177\n",
       "min        120.000000\n",
       "25%        420.000000\n",
       "50%        660.000000\n",
       "75%       1140.000000\n",
       "max      86400.000000\n",
       "Name: duration, dtype: float64"
      ]
     },
     "execution_count": 6,
     "metadata": {},
     "output_type": "execute_result"
    }
   ],
   "source": [
    "trip_data[\"duration\"].describe()"
   ]
  },
  {
   "cell_type": "code",
   "execution_count": 7,
   "metadata": {
    "collapsed": false
   },
   "outputs": [
    {
     "data": {
      "text/plain": [
       "660.0"
      ]
     },
     "execution_count": 7,
     "metadata": {},
     "output_type": "execute_result"
    }
   ],
   "source": [
    "trip_data[\"duration\"].median()"
   ]
  },
  {
   "cell_type": "code",
   "execution_count": 8,
   "metadata": {
    "collapsed": false
   },
   "outputs": [
    {
     "data": {
      "text/plain": [
       "2040.0"
      ]
     },
     "execution_count": 8,
     "metadata": {},
     "output_type": "execute_result"
    }
   ],
   "source": [
    "duration_90 = np.percentile(trip_data[\"duration\"],90)\n",
    "duration_90"
   ]
  },
  {
   "cell_type": "markdown",
   "metadata": {},
   "source": [
    "We plot Histogram of the overall trip's duration. To get a clearer view, the duration is capped 90th percentile."
   ]
  },
  {
   "cell_type": "code",
   "execution_count": 9,
   "metadata": {
    "collapsed": false
   },
   "outputs": [
    {
     "data": {
      "image/png": "[encoded data removed]",
      "text/plain": [
       "<matplotlib.figure.Figure at 0x7f07995b0a10>"
      ]
     },
     "metadata": {},
     "output_type": "display_data"
    }
   ],
   "source": [
    "plt.hist(trip_data.loc[trip_data[\"duration\"] <= duration_90,\"duration\"],bins=int(duration_90/60));"
   ]
  },
  {
   "cell_type": "markdown",
   "metadata": {},
   "source": [
    "We interest in the revenue generated from all trips (see the [Pricing Options](https://bikeshare.metro.net/pricing/)). We ignore the initial subscription fee for Montly and Flex Pass since both data are not available. Firstly, we explore those trips that end within the first 30 minutes. We split the Histogram by a subscription type(Monthly Pass, Flex Pass, Walk-up)."
   ]
  },
  {
   "cell_type": "code",
   "execution_count": 10,
   "metadata": {
    "collapsed": false
   },
   "outputs": [
    {
     "data": {
      "image/png": "[encoded data removed]",
      "text/plain": [
       "<matplotlib.figure.Figure at 0x7f077bc38510>"
      ]
     },
     "metadata": {},
     "output_type": "display_data"
    }
   ],
   "source": [
    "normal_data = trip_data.loc[trip_data[\"duration\"] <= 1800]\n",
    "\n",
    "g = sns.FacetGrid(data=normal_data,col=\"passholder_type\",size=7)\n",
    "g.map(plt.hist, \"duration\", lw=0, bins=np.linspace(0,1800,30));"
   ]
  },
  {
   "cell_type": "markdown",
   "metadata": {},
   "source": [
    "For each additional 30 minutes, users will be incurred with an extra fee. We plot Histogram and investigate such trips. Most long trips were conducted by users with Walk-up subscription. As expected, they are more likely to be a visitor and spend more time exploring downtown LA."
   ]
  },
  {
   "cell_type": "code",
   "execution_count": 11,
   "metadata": {
    "collapsed": false
   },
   "outputs": [
    {
     "data": {
      "image/png": "[encoded data removed]",
      "text/plain": [
       "<matplotlib.figure.Figure at 0x7f077bb84c90>"
      ]
     },
     "metadata": {},
     "output_type": "display_data"
    }
   ],
   "source": [
    "long_trip_data = trip_data.loc[trip_data[\"duration\"] > 1800]\n",
    "\n",
    "g = sns.FacetGrid(data=long_trip_data,col=\"passholder_type\",size=7)\n",
    "g.map(plt.hist, \"duration\", lw=0, bins=60);"
   ]
  },
  {
   "cell_type": "code",
   "execution_count": 12,
   "metadata": {
    "collapsed": false
   },
   "outputs": [
    {
     "data": {
      "text/plain": [
       "passholder_type\n",
       "Flex Pass       3060\n",
       "Monthly Pass    3060\n",
       "Walk-up         3240\n",
       "Name: duration, dtype: int64"
      ]
     },
     "execution_count": 12,
     "metadata": {},
     "output_type": "execute_result"
    }
   ],
   "source": [
    "long_trip_data.groupby(\"passholder_type\")[\"duration\"].median()"
   ]
  },
  {
   "cell_type": "code",
   "execution_count": 13,
   "metadata": {
    "collapsed": false
   },
   "outputs": [
    {
     "data": {
      "text/plain": [
       "passholder_type\n",
       "Flex Pass        321\n",
       "Monthly Pass    1323\n",
       "Walk-up         4922\n",
       "Name: duration, dtype: int64"
      ]
     },
     "execution_count": 13,
     "metadata": {},
     "output_type": "execute_result"
    }
   ],
   "source": [
    "long_trip_data.groupby(\"passholder_type\")[\"duration\"].count()"
   ]
  },
  {
   "cell_type": "markdown",
   "metadata": {},
   "source": [
    "Next, we found that nearly 90% of trips are One-Way trip."
   ]
  },
  {
   "cell_type": "code",
   "execution_count": 14,
   "metadata": {
    "collapsed": false
   },
   "outputs": [
    {
     "data": {
      "image/png": "[encoded data removed]",
      "text/plain": [
       "<matplotlib.figure.Figure at 0x7f077afd6850>"
      ]
     },
     "metadata": {},
     "output_type": "display_data"
    }
   ],
   "source": [
    "trip_data[\"trip_route_category\"].value_counts().plot.pie(figsize=(8,8),autopct='%.2f',fontsize=20);"
   ]
  },
  {
   "cell_type": "markdown",
   "metadata": {},
   "source": [
    "We facet the Pie Chart by a subscription type and found that a significantly more proportion of Round Trip is conducted by Walk-up users( 20%, compared to ~5% from Monthly and Flex Pass subscription). This aligns well with our earlier finding since Walk-up users spent more time traveling back and forth."
   ]
  },
  {
   "cell_type": "code",
   "execution_count": 15,
   "metadata": {
    "collapsed": false
   },
   "outputs": [
    {
     "data": {
      "text/html": [
       "<div>\n",
       "<table border=\"1\" class=\"dataframe\">\n",
       "  <thead>\n",
       "    <tr style=\"text-align: right;\">\n",
       "      <th>passholder_type</th>\n",
       "      <th>Flex Pass</th>\n",
       "      <th>Monthly Pass</th>\n",
       "      <th>Walk-up</th>\n",
       "    </tr>\n",
       "    <tr>\n",
       "      <th>trip_route_category</th>\n",
       "      <th></th>\n",
       "      <th></th>\n",
       "      <th></th>\n",
       "    </tr>\n",
       "  </thead>\n",
       "  <tbody>\n",
       "    <tr>\n",
       "      <th>One Way</th>\n",
       "      <td>4179</td>\n",
       "      <td>31488</td>\n",
       "      <td>14160</td>\n",
       "    </tr>\n",
       "    <tr>\n",
       "      <th>Round Trip</th>\n",
       "      <td>252</td>\n",
       "      <td>1728</td>\n",
       "      <td>3632</td>\n",
       "    </tr>\n",
       "  </tbody>\n",
       "</table>\n",
       "</div>"
      ],
      "text/plain": [
       "passholder_type      Flex Pass  Monthly Pass  Walk-up\n",
       "trip_route_category                                  \n",
       "One Way                   4179         31488    14160\n",
       "Round Trip                 252          1728     3632"
      ]
     },
     "execution_count": 15,
     "metadata": {},
     "output_type": "execute_result"
    }
   ],
   "source": [
    "ct = pd.crosstab(trip_data[\"trip_route_category\"],trip_data[\"passholder_type\"])\n",
    "ct"
   ]
  },
  {
   "cell_type": "code",
   "execution_count": 16,
   "metadata": {
    "collapsed": false
   },
   "outputs": [
    {
     "name": "stderr",
     "output_type": "stream",
     "text": [
      "/usr/lib/pymodules/python2.7/matplotlib/axes.py:4747: UserWarning: No labeled objects found. Use label='...' kwarg on individual plots.\n",
      "  warnings.warn(\"No labeled objects found. \"\n"
     ]
    },
    {
     "data": {
      "image/png": "[encoded data removed]",
      "text/plain": [
       "<matplotlib.figure.Figure at 0x7f077aaa8f90>"
      ]
     },
     "metadata": {},
     "output_type": "display_data"
    }
   ],
   "source": [
    "ct.plot.pie(subplots=True,figsize=(13,4),autopct='%.2f',fontsize=20,labels=None);\n"
   ]
  },
  {
   "cell_type": "markdown",
   "metadata": {},
   "source": [
    "To prepare the data used in Tableau, we calculate revenue generated for each trip."
   ]
  },
  {
   "cell_type": "code",
   "execution_count": 17,
   "metadata": {
    "collapsed": true
   },
   "outputs": [],
   "source": [
    "import math\n",
    "from __future__ import division"
   ]
  },
  {
   "cell_type": "code",
   "execution_count": 18,
   "metadata": {
    "collapsed": false
   },
   "outputs": [],
   "source": [
    "def calculate_revenue(d):\n",
    "    if d[\"passholder_type\"] == \"Walk-up\":\n",
    "        return (math.ceil(d[\"duration\"]/1800) ) * 3.5\n",
    "    elif d[\"passholder_type\"] == \"Flex Pass\":\n",
    "        return (math.ceil(d[\"duration\"]/1800) ) * 1.75\n",
    "    else:\n",
    "        return (math.ceil(d[\"duration\"]/1800) - 1 ) * 1.75\n",
    "        \n",
    "\n",
    "trip_data[\"revenue_gain\"] = trip_data.apply(calculate_revenue,axis=1)"
   ]
  },
  {
   "cell_type": "markdown",
   "metadata": {},
   "source": [
    "We also calculate a (typical) distance and travel time between each station. The usual route taken is calculated by GoogleMaps API. Noted: you need to install the GoogleMap API for Python via [this link](https://github.com/googlemaps/google-maps-services-python) and use your own API key."
   ]
  },
  {
   "cell_type": "code",
   "execution_count": 19,
   "metadata": {
    "collapsed": false
   },
   "outputs": [],
   "source": [
    "import googlemaps\n",
    "\n",
    "gmaps = googlemaps.Client(key='---Your API Key---')"
   ]
  },
  {
   "cell_type": "code",
   "execution_count": 20,
   "metadata": {
    "collapsed": true
   },
   "outputs": [],
   "source": [
    "import warnings\n",
    "warnings.filterwarnings('ignore')"
   ]
  },
  {
   "cell_type": "code",
   "execution_count": 21,
   "metadata": {
    "collapsed": true
   },
   "outputs": [],
   "source": [
    "trip_data[\"usual_distance\"] = 0\n",
    "trip_data[\"usual_duration\"] = 0\n",
    "\n",
    "start_end_dict = {}"
   ]
  },
  {
   "cell_type": "markdown",
   "metadata": {},
   "source": [
    "We found that stationId \"4108\" has invalid lat/lon information. We simply drop rows that have station 4108 as either start or end station( 60 rows in total)."
   ]
  },
  {
   "cell_type": "code",
   "execution_count": 22,
   "metadata": {
    "collapsed": false
   },
   "outputs": [
    {
     "data": {
      "text/plain": [
       "(60, 17)"
      ]
     },
     "execution_count": 22,
     "metadata": {},
     "output_type": "execute_result"
    }
   ],
   "source": [
    "discard_rows = trip_data.loc[(trip_data[\"start_station_id\"] == 4108) | (trip_data[\"end_station_id\"] == 4108)]\n",
    "discard_rows.shape"
   ]
  },
  {
   "cell_type": "code",
   "execution_count": 23,
   "metadata": {
    "collapsed": false
   },
   "outputs": [
    {
     "data": {
      "text/html": [
       "<div>\n",
       "<table border=\"1\" class=\"dataframe\">\n",
       "  <thead>\n",
       "    <tr style=\"text-align: right;\">\n",
       "      <th></th>\n",
       "      <th>trip_id</th>\n",
       "      <th>duration</th>\n",
       "      <th>start_time</th>\n",
       "      <th>end_time</th>\n",
       "      <th>start_station_id</th>\n",
       "      <th>start_lat</th>\n",
       "      <th>start_lon</th>\n",
       "      <th>end_station_id</th>\n",
       "      <th>end_lat</th>\n",
       "      <th>end_lon</th>\n",
       "      <th>bike_id</th>\n",
       "      <th>plan_duration</th>\n",
       "      <th>trip_route_category</th>\n",
       "      <th>passholder_type</th>\n",
       "      <th>revenue_gain</th>\n",
       "      <th>usual_distance</th>\n",
       "      <th>usual_duration</th>\n",
       "    </tr>\n",
       "  </thead>\n",
       "  <tbody>\n",
       "    <tr>\n",
       "      <th>235</th>\n",
       "      <td>2027211</td>\n",
       "      <td>180</td>\n",
       "      <td>7/8/2016 10:40</td>\n",
       "      <td>7/8/2016 10:43</td>\n",
       "      <td>4108</td>\n",
       "      <td>0.00000</td>\n",
       "      <td>0.00000</td>\n",
       "      <td>4108</td>\n",
       "      <td>0.0</td>\n",
       "      <td>0.0</td>\n",
       "      <td>6065</td>\n",
       "      <td>30</td>\n",
       "      <td>Round Trip</td>\n",
       "      <td>Monthly Pass</td>\n",
       "      <td>0.00</td>\n",
       "      <td>0</td>\n",
       "      <td>0</td>\n",
       "    </tr>\n",
       "    <tr>\n",
       "      <th>1463</th>\n",
       "      <td>2492936</td>\n",
       "      <td>9600</td>\n",
       "      <td>7/11/2016 15:08</td>\n",
       "      <td>7/11/2016 17:48</td>\n",
       "      <td>4108</td>\n",
       "      <td>0.00000</td>\n",
       "      <td>0.00000</td>\n",
       "      <td>4108</td>\n",
       "      <td>0.0</td>\n",
       "      <td>0.0</td>\n",
       "      <td>6286</td>\n",
       "      <td>30</td>\n",
       "      <td>Round Trip</td>\n",
       "      <td>Monthly Pass</td>\n",
       "      <td>8.75</td>\n",
       "      <td>0</td>\n",
       "      <td>0</td>\n",
       "    </tr>\n",
       "    <tr>\n",
       "      <th>1718</th>\n",
       "      <td>2614844</td>\n",
       "      <td>780</td>\n",
       "      <td>7/12/2016 9:38</td>\n",
       "      <td>7/12/2016 9:51</td>\n",
       "      <td>3079</td>\n",
       "      <td>34.05014</td>\n",
       "      <td>-118.23324</td>\n",
       "      <td>4108</td>\n",
       "      <td>0.0</td>\n",
       "      <td>0.0</td>\n",
       "      <td>6054</td>\n",
       "      <td>30</td>\n",
       "      <td>One Way</td>\n",
       "      <td>Monthly Pass</td>\n",
       "      <td>0.00</td>\n",
       "      <td>0</td>\n",
       "      <td>0</td>\n",
       "    </tr>\n",
       "    <tr>\n",
       "      <th>1781</th>\n",
       "      <td>2630413</td>\n",
       "      <td>120</td>\n",
       "      <td>7/12/2016 11:53</td>\n",
       "      <td>7/12/2016 11:55</td>\n",
       "      <td>4108</td>\n",
       "      <td>0.00000</td>\n",
       "      <td>0.00000</td>\n",
       "      <td>4108</td>\n",
       "      <td>0.0</td>\n",
       "      <td>0.0</td>\n",
       "      <td>6054</td>\n",
       "      <td>30</td>\n",
       "      <td>Round Trip</td>\n",
       "      <td>Monthly Pass</td>\n",
       "      <td>0.00</td>\n",
       "      <td>0</td>\n",
       "      <td>0</td>\n",
       "    </tr>\n",
       "    <tr>\n",
       "      <th>1975</th>\n",
       "      <td>2672199</td>\n",
       "      <td>1440</td>\n",
       "      <td>7/12/2016 15:57</td>\n",
       "      <td>7/12/2016 16:21</td>\n",
       "      <td>3079</td>\n",
       "      <td>34.05014</td>\n",
       "      <td>-118.23324</td>\n",
       "      <td>4108</td>\n",
       "      <td>0.0</td>\n",
       "      <td>0.0</td>\n",
       "      <td>6054</td>\n",
       "      <td>30</td>\n",
       "      <td>One Way</td>\n",
       "      <td>Monthly Pass</td>\n",
       "      <td>0.00</td>\n",
       "      <td>0</td>\n",
       "      <td>0</td>\n",
       "    </tr>\n",
       "  </tbody>\n",
       "</table>\n",
       "</div>"
      ],
      "text/plain": [
       "      trip_id  duration       start_time         end_time  start_station_id  \\\n",
       "235   2027211       180   7/8/2016 10:40   7/8/2016 10:43              4108   \n",
       "1463  2492936      9600  7/11/2016 15:08  7/11/2016 17:48              4108   \n",
       "1718  2614844       780   7/12/2016 9:38   7/12/2016 9:51              3079   \n",
       "1781  2630413       120  7/12/2016 11:53  7/12/2016 11:55              4108   \n",
       "1975  2672199      1440  7/12/2016 15:57  7/12/2016 16:21              3079   \n",
       "\n",
       "      start_lat  start_lon  end_station_id  end_lat  end_lon  bike_id  \\\n",
       "235     0.00000    0.00000            4108      0.0      0.0     6065   \n",
       "1463    0.00000    0.00000            4108      0.0      0.0     6286   \n",
       "1718   34.05014 -118.23324            4108      0.0      0.0     6054   \n",
       "1781    0.00000    0.00000            4108      0.0      0.0     6054   \n",
       "1975   34.05014 -118.23324            4108      0.0      0.0     6054   \n",
       "\n",
       "      plan_duration trip_route_category passholder_type  revenue_gain  \\\n",
       "235              30          Round Trip    Monthly Pass          0.00   \n",
       "1463             30          Round Trip    Monthly Pass          8.75   \n",
       "1718             30             One Way    Monthly Pass          0.00   \n",
       "1781             30          Round Trip    Monthly Pass          0.00   \n",
       "1975             30             One Way    Monthly Pass          0.00   \n",
       "\n",
       "      usual_distance  usual_duration  \n",
       "235                0               0  \n",
       "1463               0               0  \n",
       "1718               0               0  \n",
       "1781               0               0  \n",
       "1975               0               0  "
      ]
     },
     "execution_count": 23,
     "metadata": {},
     "output_type": "execute_result"
    }
   ],
   "source": [
    "discard_rows.head()"
   ]
  },
  {
   "cell_type": "code",
   "execution_count": 24,
   "metadata": {
    "collapsed": false
   },
   "outputs": [],
   "source": [
    "trip_data = trip_data.drop(discard_rows.index)"
   ]
  },
  {
   "cell_type": "code",
   "execution_count": 25,
   "metadata": {
    "collapsed": false
   },
   "outputs": [
    {
     "data": {
      "text/plain": [
       "(55379, 17)"
      ]
     },
     "execution_count": 25,
     "metadata": {},
     "output_type": "execute_result"
    }
   ],
   "source": [
    "trip_data.shape"
   ]
  },
  {
   "cell_type": "markdown",
   "metadata": {},
   "source": [
    "GoogleMaps API is limited as 2500 requests/day. We store the crawled data into a pickled file because we can't process all data in a single day."
   ]
  },
  {
   "cell_type": "code",
   "execution_count": 26,
   "metadata": {
    "collapsed": true
   },
   "outputs": [],
   "source": [
    "import pickle\n",
    "import os.path\n",
    "\n",
    "if os.path.isfile(\"data/start_end_dict.p\"):\n",
    "    start_end_dict = pickle.load(open(\"data/start_end_dict.p\",\"rb\"))"
   ]
  },
  {
   "cell_type": "code",
   "execution_count": null,
   "metadata": {
    "collapsed": false
   },
   "outputs": [],
   "source": [
    "count = 0\n",
    "\n",
    "def get_estimated_distance_and_time(d):\n",
    "    global start_end_dict\n",
    "    global count\n",
    "    if d[\"trip_route_category\"] == \"Round Trip\":\n",
    "        return [0,0]\n",
    "    \n",
    "    start_id = d[\"start_station_id\"]\n",
    "    end_id = d[\"end_station_id\"]\n",
    "    start_end = (start_id,end_id)\n",
    "        \n",
    "    if start_end not in start_end_dict:\n",
    "        try:\n",
    "            print(\"Calling distance API for {}\".format(start_end))\n",
    "            map_info = gmaps.distance_matrix(origins=(d[\"start_lat\"],d[\"start_lon\"]),destinations=(d[\"end_lat\"],d[\"end_lon\"]),mode=\"bicycling\")\n",
    "            #dictionary hold (typical distance(metre),typical time taken(seconds))                                                                                         \n",
    "            start_end_dict[start_end] = (map_info[\"rows\"][0][\"elements\"][0][\"distance\"][\"value\"],map_info[\"rows\"][0][\"elements\"][0][\"duration\"][\"value\"])    \n",
    "            count += 1\n",
    "            if count % 100 == 0:\n",
    "                print(\"dump current retrieved data[{}]\".format(count))\n",
    "                pickle.dump(start_end_dict,open('data/start_end_dict.p','wb'))\n",
    "        except:\n",
    "            print(\"Can't retireve data for row:{}...\".format(d))\n",
    "            pickle.dump(start_end_dict,open('data/start_end_dict.p','wb'))\n",
    "            #terminate the program to investigate further(likely, the limit is reached)\n",
    "            raise\n",
    "            \n",
    "    return [start_end_dict[start_end][0],start_end_dict[start_end][1]]\n",
    "\n",
    "trip_data.loc[0:,[\"usual_distance\",\"usual_duration\"]] = list(trip_data.apply(get_estimated_distance_and_time,axis=1))  \n",
    "print(\"finish calling GoogleMaps API...\")    "
   ]
  },
  {
   "cell_type": "code",
   "execution_count": 74,
   "metadata": {
    "collapsed": false
   },
   "outputs": [
    {
     "data": {
      "text/html": [
       "<div>\n",
       "<table border=\"1\" class=\"dataframe\">\n",
       "  <thead>\n",
       "    <tr style=\"text-align: right;\">\n",
       "      <th></th>\n",
       "      <th>trip_id</th>\n",
       "      <th>duration</th>\n",
       "      <th>start_time</th>\n",
       "      <th>end_time</th>\n",
       "      <th>start_station_id</th>\n",
       "      <th>start_lat</th>\n",
       "      <th>start_lon</th>\n",
       "      <th>end_station_id</th>\n",
       "      <th>end_lat</th>\n",
       "      <th>end_lon</th>\n",
       "      <th>bike_id</th>\n",
       "      <th>plan_duration</th>\n",
       "      <th>trip_route_category</th>\n",
       "      <th>passholder_type</th>\n",
       "      <th>revenue_gain</th>\n",
       "      <th>usual_distance</th>\n",
       "      <th>usual_duration</th>\n",
       "    </tr>\n",
       "  </thead>\n",
       "  <tbody>\n",
       "    <tr>\n",
       "      <th>0</th>\n",
       "      <td>1912818</td>\n",
       "      <td>180</td>\n",
       "      <td>7/7/2016 4:17</td>\n",
       "      <td>7/7/2016 4:20</td>\n",
       "      <td>3014</td>\n",
       "      <td>34.056610</td>\n",
       "      <td>-118.23721</td>\n",
       "      <td>3014</td>\n",
       "      <td>34.056610</td>\n",
       "      <td>-118.23721</td>\n",
       "      <td>6281</td>\n",
       "      <td>30</td>\n",
       "      <td>Round Trip</td>\n",
       "      <td>Monthly Pass</td>\n",
       "      <td>0.00</td>\n",
       "      <td>0</td>\n",
       "      <td>0</td>\n",
       "    </tr>\n",
       "    <tr>\n",
       "      <th>1</th>\n",
       "      <td>1919661</td>\n",
       "      <td>1980</td>\n",
       "      <td>7/7/2016 6:00</td>\n",
       "      <td>7/7/2016 6:33</td>\n",
       "      <td>3014</td>\n",
       "      <td>34.056610</td>\n",
       "      <td>-118.23721</td>\n",
       "      <td>3014</td>\n",
       "      <td>34.056610</td>\n",
       "      <td>-118.23721</td>\n",
       "      <td>6281</td>\n",
       "      <td>30</td>\n",
       "      <td>Round Trip</td>\n",
       "      <td>Monthly Pass</td>\n",
       "      <td>1.75</td>\n",
       "      <td>0</td>\n",
       "      <td>0</td>\n",
       "    </tr>\n",
       "    <tr>\n",
       "      <th>2</th>\n",
       "      <td>1933383</td>\n",
       "      <td>300</td>\n",
       "      <td>7/7/2016 10:32</td>\n",
       "      <td>7/7/2016 10:37</td>\n",
       "      <td>3016</td>\n",
       "      <td>34.052898</td>\n",
       "      <td>-118.24156</td>\n",
       "      <td>3016</td>\n",
       "      <td>34.052898</td>\n",
       "      <td>-118.24156</td>\n",
       "      <td>5861</td>\n",
       "      <td>365</td>\n",
       "      <td>Round Trip</td>\n",
       "      <td>Flex Pass</td>\n",
       "      <td>1.75</td>\n",
       "      <td>0</td>\n",
       "      <td>0</td>\n",
       "    </tr>\n",
       "    <tr>\n",
       "      <th>3</th>\n",
       "      <td>1944197</td>\n",
       "      <td>10860</td>\n",
       "      <td>7/7/2016 10:37</td>\n",
       "      <td>7/7/2016 13:38</td>\n",
       "      <td>3016</td>\n",
       "      <td>34.052898</td>\n",
       "      <td>-118.24156</td>\n",
       "      <td>3016</td>\n",
       "      <td>34.052898</td>\n",
       "      <td>-118.24156</td>\n",
       "      <td>5861</td>\n",
       "      <td>365</td>\n",
       "      <td>Round Trip</td>\n",
       "      <td>Flex Pass</td>\n",
       "      <td>12.25</td>\n",
       "      <td>0</td>\n",
       "      <td>0</td>\n",
       "    </tr>\n",
       "    <tr>\n",
       "      <th>4</th>\n",
       "      <td>1940317</td>\n",
       "      <td>420</td>\n",
       "      <td>7/7/2016 12:51</td>\n",
       "      <td>7/7/2016 12:58</td>\n",
       "      <td>3032</td>\n",
       "      <td>34.049889</td>\n",
       "      <td>-118.25588</td>\n",
       "      <td>3032</td>\n",
       "      <td>34.049889</td>\n",
       "      <td>-118.25588</td>\n",
       "      <td>6674</td>\n",
       "      <td>0</td>\n",
       "      <td>Round Trip</td>\n",
       "      <td>Walk-up</td>\n",
       "      <td>3.50</td>\n",
       "      <td>0</td>\n",
       "      <td>0</td>\n",
       "    </tr>\n",
       "    <tr>\n",
       "      <th>5</th>\n",
       "      <td>1944075</td>\n",
       "      <td>780</td>\n",
       "      <td>7/7/2016 12:51</td>\n",
       "      <td>7/7/2016 13:04</td>\n",
       "      <td>3021</td>\n",
       "      <td>34.045609</td>\n",
       "      <td>-118.23703</td>\n",
       "      <td>3054</td>\n",
       "      <td>34.039219</td>\n",
       "      <td>-118.23649</td>\n",
       "      <td>6717</td>\n",
       "      <td>30</td>\n",
       "      <td>One Way</td>\n",
       "      <td>Monthly Pass</td>\n",
       "      <td>0.00</td>\n",
       "      <td>995</td>\n",
       "      <td>263</td>\n",
       "    </tr>\n",
       "    <tr>\n",
       "      <th>6</th>\n",
       "      <td>1944073</td>\n",
       "      <td>600</td>\n",
       "      <td>7/7/2016 12:54</td>\n",
       "      <td>7/7/2016 13:04</td>\n",
       "      <td>3022</td>\n",
       "      <td>34.046070</td>\n",
       "      <td>-118.23309</td>\n",
       "      <td>3014</td>\n",
       "      <td>34.056610</td>\n",
       "      <td>-118.23721</td>\n",
       "      <td>5721</td>\n",
       "      <td>30</td>\n",
       "      <td>One Way</td>\n",
       "      <td>Monthly Pass</td>\n",
       "      <td>0.00</td>\n",
       "      <td>1779</td>\n",
       "      <td>394</td>\n",
       "    </tr>\n",
       "    <tr>\n",
       "      <th>7</th>\n",
       "      <td>1944067</td>\n",
       "      <td>600</td>\n",
       "      <td>7/7/2016 12:59</td>\n",
       "      <td>7/7/2016 13:09</td>\n",
       "      <td>3076</td>\n",
       "      <td>34.040600</td>\n",
       "      <td>-118.25384</td>\n",
       "      <td>3005</td>\n",
       "      <td>34.048550</td>\n",
       "      <td>-118.25905</td>\n",
       "      <td>5957</td>\n",
       "      <td>365</td>\n",
       "      <td>One Way</td>\n",
       "      <td>Flex Pass</td>\n",
       "      <td>1.75</td>\n",
       "      <td>1468</td>\n",
       "      <td>510</td>\n",
       "    </tr>\n",
       "    <tr>\n",
       "      <th>8</th>\n",
       "      <td>1944062</td>\n",
       "      <td>2880</td>\n",
       "      <td>7/7/2016 13:01</td>\n",
       "      <td>7/7/2016 13:49</td>\n",
       "      <td>3031</td>\n",
       "      <td>34.044701</td>\n",
       "      <td>-118.25244</td>\n",
       "      <td>3031</td>\n",
       "      <td>34.044701</td>\n",
       "      <td>-118.25244</td>\n",
       "      <td>6137</td>\n",
       "      <td>365</td>\n",
       "      <td>Round Trip</td>\n",
       "      <td>Flex Pass</td>\n",
       "      <td>3.50</td>\n",
       "      <td>0</td>\n",
       "      <td>0</td>\n",
       "    </tr>\n",
       "    <tr>\n",
       "      <th>9</th>\n",
       "      <td>1944063</td>\n",
       "      <td>960</td>\n",
       "      <td>7/7/2016 13:01</td>\n",
       "      <td>7/7/2016 13:17</td>\n",
       "      <td>3031</td>\n",
       "      <td>34.044701</td>\n",
       "      <td>-118.25244</td>\n",
       "      <td>3078</td>\n",
       "      <td>34.064281</td>\n",
       "      <td>-118.23894</td>\n",
       "      <td>6351</td>\n",
       "      <td>30</td>\n",
       "      <td>One Way</td>\n",
       "      <td>Monthly Pass</td>\n",
       "      <td>0.00</td>\n",
       "      <td>3102</td>\n",
       "      <td>904</td>\n",
       "    </tr>\n",
       "  </tbody>\n",
       "</table>\n",
       "</div>"
      ],
      "text/plain": [
       "   trip_id  duration      start_time        end_time  start_station_id  \\\n",
       "0  1912818       180   7/7/2016 4:17   7/7/2016 4:20              3014   \n",
       "1  1919661      1980   7/7/2016 6:00   7/7/2016 6:33              3014   \n",
       "2  1933383       300  7/7/2016 10:32  7/7/2016 10:37              3016   \n",
       "3  1944197     10860  7/7/2016 10:37  7/7/2016 13:38              3016   \n",
       "4  1940317       420  7/7/2016 12:51  7/7/2016 12:58              3032   \n",
       "5  1944075       780  7/7/2016 12:51  7/7/2016 13:04              3021   \n",
       "6  1944073       600  7/7/2016 12:54  7/7/2016 13:04              3022   \n",
       "7  1944067       600  7/7/2016 12:59  7/7/2016 13:09              3076   \n",
       "8  1944062      2880  7/7/2016 13:01  7/7/2016 13:49              3031   \n",
       "9  1944063       960  7/7/2016 13:01  7/7/2016 13:17              3031   \n",
       "\n",
       "   start_lat  start_lon  end_station_id    end_lat    end_lon  bike_id  \\\n",
       "0  34.056610 -118.23721            3014  34.056610 -118.23721     6281   \n",
       "1  34.056610 -118.23721            3014  34.056610 -118.23721     6281   \n",
       "2  34.052898 -118.24156            3016  34.052898 -118.24156     5861   \n",
       "3  34.052898 -118.24156            3016  34.052898 -118.24156     5861   \n",
       "4  34.049889 -118.25588            3032  34.049889 -118.25588     6674   \n",
       "5  34.045609 -118.23703            3054  34.039219 -118.23649     6717   \n",
       "6  34.046070 -118.23309            3014  34.056610 -118.23721     5721   \n",
       "7  34.040600 -118.25384            3005  34.048550 -118.25905     5957   \n",
       "8  34.044701 -118.25244            3031  34.044701 -118.25244     6137   \n",
       "9  34.044701 -118.25244            3078  34.064281 -118.23894     6351   \n",
       "\n",
       "   plan_duration trip_route_category passholder_type  revenue_gain  \\\n",
       "0             30          Round Trip    Monthly Pass          0.00   \n",
       "1             30          Round Trip    Monthly Pass          1.75   \n",
       "2            365          Round Trip       Flex Pass          1.75   \n",
       "3            365          Round Trip       Flex Pass         12.25   \n",
       "4              0          Round Trip         Walk-up          3.50   \n",
       "5             30             One Way    Monthly Pass          0.00   \n",
       "6             30             One Way    Monthly Pass          0.00   \n",
       "7            365             One Way       Flex Pass          1.75   \n",
       "8            365          Round Trip       Flex Pass          3.50   \n",
       "9             30             One Way    Monthly Pass          0.00   \n",
       "\n",
       "   usual_distance  usual_duration  \n",
       "0               0               0  \n",
       "1               0               0  \n",
       "2               0               0  \n",
       "3               0               0  \n",
       "4               0               0  \n",
       "5             995             263  \n",
       "6            1779             394  \n",
       "7            1468             510  \n",
       "8               0               0  \n",
       "9            3102             904  "
      ]
     },
     "execution_count": 74,
     "metadata": {},
     "output_type": "execute_result"
    }
   ],
   "source": [
    "#check with GoogleMaps website that usual_distace and usual_duration is processed correctly\n",
    "trip_data.head(10)"
   ]
  },
  {
   "cell_type": "code",
   "execution_count": 72,
   "metadata": {
    "collapsed": false
   },
   "outputs": [
    {
     "data": {
      "text/html": [
       "<div>\n",
       "<table border=\"1\" class=\"dataframe\">\n",
       "  <thead>\n",
       "    <tr style=\"text-align: right;\">\n",
       "      <th></th>\n",
       "      <th>trip_id</th>\n",
       "      <th>duration</th>\n",
       "      <th>start_time</th>\n",
       "      <th>end_time</th>\n",
       "      <th>start_station_id</th>\n",
       "      <th>start_lat</th>\n",
       "      <th>start_lon</th>\n",
       "      <th>end_station_id</th>\n",
       "      <th>end_lat</th>\n",
       "      <th>end_lon</th>\n",
       "      <th>bike_id</th>\n",
       "      <th>plan_duration</th>\n",
       "      <th>trip_route_category</th>\n",
       "      <th>passholder_type</th>\n",
       "      <th>revenue_gain</th>\n",
       "      <th>usual_distance</th>\n",
       "      <th>usual_duration</th>\n",
       "    </tr>\n",
       "  </thead>\n",
       "  <tbody>\n",
       "    <tr>\n",
       "      <th>55434</th>\n",
       "      <td>8365125</td>\n",
       "      <td>840</td>\n",
       "      <td>9/30/2016 23:43</td>\n",
       "      <td>9/30/2016 23:57</td>\n",
       "      <td>3054</td>\n",
       "      <td>34.039219</td>\n",
       "      <td>-118.23649</td>\n",
       "      <td>3005</td>\n",
       "      <td>34.048550</td>\n",
       "      <td>-118.25905</td>\n",
       "      <td>6146</td>\n",
       "      <td>30</td>\n",
       "      <td>One Way</td>\n",
       "      <td>Monthly Pass</td>\n",
       "      <td>0.0</td>\n",
       "      <td>2863</td>\n",
       "      <td>807</td>\n",
       "    </tr>\n",
       "    <tr>\n",
       "      <th>55435</th>\n",
       "      <td>8369653</td>\n",
       "      <td>840</td>\n",
       "      <td>9/30/2016 23:44</td>\n",
       "      <td>9/30/2016 23:58</td>\n",
       "      <td>3051</td>\n",
       "      <td>34.045422</td>\n",
       "      <td>-118.25352</td>\n",
       "      <td>3055</td>\n",
       "      <td>34.044159</td>\n",
       "      <td>-118.25158</td>\n",
       "      <td>6069</td>\n",
       "      <td>30</td>\n",
       "      <td>One Way</td>\n",
       "      <td>Monthly Pass</td>\n",
       "      <td>0.0</td>\n",
       "      <td>228</td>\n",
       "      <td>81</td>\n",
       "    </tr>\n",
       "    <tr>\n",
       "      <th>55436</th>\n",
       "      <td>8369652</td>\n",
       "      <td>1020</td>\n",
       "      <td>9/30/2016 23:47</td>\n",
       "      <td>10/1/2016 0:04</td>\n",
       "      <td>3032</td>\n",
       "      <td>34.049889</td>\n",
       "      <td>-118.25588</td>\n",
       "      <td>3023</td>\n",
       "      <td>34.050911</td>\n",
       "      <td>-118.24097</td>\n",
       "      <td>5725</td>\n",
       "      <td>0</td>\n",
       "      <td>One Way</td>\n",
       "      <td>Walk-up</td>\n",
       "      <td>3.5</td>\n",
       "      <td>2064</td>\n",
       "      <td>605</td>\n",
       "    </tr>\n",
       "    <tr>\n",
       "      <th>55437</th>\n",
       "      <td>8369651</td>\n",
       "      <td>540</td>\n",
       "      <td>9/30/2016 23:53</td>\n",
       "      <td>10/1/2016 0:02</td>\n",
       "      <td>3035</td>\n",
       "      <td>34.048401</td>\n",
       "      <td>-118.26095</td>\n",
       "      <td>3031</td>\n",
       "      <td>34.044701</td>\n",
       "      <td>-118.25244</td>\n",
       "      <td>5975</td>\n",
       "      <td>0</td>\n",
       "      <td>One Way</td>\n",
       "      <td>Walk-up</td>\n",
       "      <td>3.5</td>\n",
       "      <td>1009</td>\n",
       "      <td>290</td>\n",
       "    </tr>\n",
       "    <tr>\n",
       "      <th>55438</th>\n",
       "      <td>8369650</td>\n",
       "      <td>480</td>\n",
       "      <td>9/30/2016 23:54</td>\n",
       "      <td>10/1/2016 0:02</td>\n",
       "      <td>3035</td>\n",
       "      <td>34.048401</td>\n",
       "      <td>-118.26095</td>\n",
       "      <td>3031</td>\n",
       "      <td>34.044701</td>\n",
       "      <td>-118.25244</td>\n",
       "      <td>6683</td>\n",
       "      <td>0</td>\n",
       "      <td>One Way</td>\n",
       "      <td>Walk-up</td>\n",
       "      <td>3.5</td>\n",
       "      <td>1009</td>\n",
       "      <td>290</td>\n",
       "    </tr>\n",
       "  </tbody>\n",
       "</table>\n",
       "</div>"
      ],
      "text/plain": [
       "       trip_id  duration       start_time         end_time  start_station_id  \\\n",
       "55434  8365125       840  9/30/2016 23:43  9/30/2016 23:57              3054   \n",
       "55435  8369653       840  9/30/2016 23:44  9/30/2016 23:58              3051   \n",
       "55436  8369652      1020  9/30/2016 23:47   10/1/2016 0:04              3032   \n",
       "55437  8369651       540  9/30/2016 23:53   10/1/2016 0:02              3035   \n",
       "55438  8369650       480  9/30/2016 23:54   10/1/2016 0:02              3035   \n",
       "\n",
       "       start_lat  start_lon  end_station_id    end_lat    end_lon  bike_id  \\\n",
       "55434  34.039219 -118.23649            3005  34.048550 -118.25905     6146   \n",
       "55435  34.045422 -118.25352            3055  34.044159 -118.25158     6069   \n",
       "55436  34.049889 -118.25588            3023  34.050911 -118.24097     5725   \n",
       "55437  34.048401 -118.26095            3031  34.044701 -118.25244     5975   \n",
       "55438  34.048401 -118.26095            3031  34.044701 -118.25244     6683   \n",
       "\n",
       "       plan_duration trip_route_category passholder_type  revenue_gain  \\\n",
       "55434             30             One Way    Monthly Pass           0.0   \n",
       "55435             30             One Way    Monthly Pass           0.0   \n",
       "55436              0             One Way         Walk-up           3.5   \n",
       "55437              0             One Way         Walk-up           3.5   \n",
       "55438              0             One Way         Walk-up           3.5   \n",
       "\n",
       "       usual_distance  usual_duration  \n",
       "55434            2863             807  \n",
       "55435             228              81  \n",
       "55436            2064             605  \n",
       "55437            1009             290  \n",
       "55438            1009             290  "
      ]
     },
     "execution_count": 72,
     "metadata": {},
     "output_type": "execute_result"
    }
   ],
   "source": [
    "trip_data.tail()"
   ]
  },
  {
   "cell_type": "markdown",
   "metadata": {},
   "source": [
    "Then, we store the processed data and switch to Tableau for Explanatory Analysis."
   ]
  },
  {
   "cell_type": "code",
   "execution_count": 73,
   "metadata": {
    "collapsed": false
   },
   "outputs": [],
   "source": [
    "trip_data.to_csv(\"data/processed.csv\",index=False)"
   ]
  }
 ],
 "metadata": {
  "kernelspec": {
   "display_name": "Python 2",
   "language": "python",
   "name": "python2"
  },
  "language_info": {
   "codemirror_mode": {
    "name": "ipython",
    "version": 2
   },
   "file_extension": ".py",
   "mimetype": "text/x-python",
   "name": "python",
   "nbconvert_exporter": "python",
   "pygments_lexer": "ipython2",
   "version": "2.7.6"
  }
 },
 "nbformat": 4,
 "nbformat_minor": 0
}
